{
 "cells": [
  {
   "cell_type": "code",
   "execution_count": 1,
   "metadata": {},
   "outputs": [],
   "source": [
    "import random \n",
    "import pandas as pd\n",
    "import numpy as np\n",
    "import matplotlib.pyplot as plt\n",
    "%matplotlib inline\n",
    "\n",
    "import xlwt\n",
    "import xlrd\n",
    "import openpyxl"
   ]
  },
  {
   "cell_type": "code",
   "execution_count": 2,
   "metadata": {},
   "outputs": [
    {
     "name": "stdout",
     "output_type": "stream",
     "text": [
      "   Unnamed: 0          经度         纬度  室  厅      面积     价格\n",
      "0           0  121.499917  31.272381  1  1   79.46   8790\n",
      "1           1  121.521813  31.206273  2  1     102   9890\n",
      "2           2  121.472869  31.284688  2  1   88.57   9990\n",
      "3           3  121.496374  31.208895  2  1     143  13490\n",
      "4           4  121.279576  31.327221  2  1  125.75   5390\n"
     ]
    }
   ],
   "source": [
    "xls = pd.ExcelFile(\"ziroom_new.xls\")\n",
    "df_ziroom = pd.read_excel(xls, 0)\n",
    "df_ziroom = df_ziroom[(True^df_ziroom['经度'].isin([0]))]\n",
    "df_ziroom = df_ziroom[(True^df_ziroom['纬度'].isin([0]))]\n",
    "\n",
    "xls = pd.ExcelFile(\"58_new.xls\")\n",
    "df_58 = pd.read_excel(xls, 0)\n",
    "df_58 = df_58[(True^df_58['经度'].isin([0]))]\n",
    "df_58 = df_58[(True^df_58['纬度'].isin([0]))]\n",
    "df_58 = df_58.drop(columns=\"小区\")\n",
    "\n",
    "xls = pd.ExcelFile(\"lianjia_new.xls\")\n",
    "df_lianjia = pd.read_excel(xls, 0)\n",
    "df_lianjia = df_lianjia[(True^df_lianjia['经度'].isin([0]))]\n",
    "df_lianjia = df_lianjia[(True^df_lianjia['纬度'].isin([0]))]\n",
    "\n",
    "xls = pd.ExcelFile(\"anjuke_new.xls\")\n",
    "df_anjuke = pd.read_excel(xls, 0)\n",
    "df_anjuke = df_anjuke[(True^df_anjuke['经度'].isin([0]))]\n",
    "df_anjuke = df_anjuke[(True^df_anjuke['纬度'].isin([0]))]\n",
    "df_anjuke = df_anjuke.drop(columns=\"小区\")\n",
    "\n",
    "df = df_ziroom.append(df_58)\n",
    "df = df.append(df_lianjia)\n",
    "df = df.append(df_anjuke)\n",
    "\n",
    "print(df[:5])"
   ]
  },
  {
   "cell_type": "code",
   "execution_count": 3,
   "metadata": {},
   "outputs": [
    {
     "name": "stdout",
     "output_type": "stream",
     "text": [
      "(9893, 5)\n",
      "(9893,)\n",
      "[[121.499917 31.272381 1 1 79.46]\n",
      " [121.521813 31.206273 2 1 102.0]\n",
      " [121.472869 31.284688 2 1 88.57]\n",
      " [121.496374 31.208895 2 1 143.0]\n",
      " [121.279576 31.327221 2 1 125.75]]\n",
      "[8790 9890 9990 13490 5390]\n"
     ]
    }
   ],
   "source": [
    "df_y = df[\"价格\"]\n",
    "df_X = df.drop(columns=[\"价格\"])\n",
    "df_X = df_X.loc[:, ~df_X.columns.str.contains('^Unnamed')]\n",
    "\n",
    "X = df_X.to_numpy()\n",
    "y = df_y.to_numpy()\n",
    "\n",
    "print(X.shape)\n",
    "print(y.shape)\n",
    "print(X[:5])\n",
    "print(y[:5])"
   ]
  },
  {
   "cell_type": "code",
   "execution_count": null,
   "metadata": {},
   "outputs": [],
   "source": []
  }
 ],
 "metadata": {
  "kernelspec": {
   "display_name": "Python 3",
   "language": "python",
   "name": "python3"
  },
  "language_info": {
   "codemirror_mode": {
    "name": "ipython",
    "version": 3
   },
   "file_extension": ".py",
   "mimetype": "text/x-python",
   "name": "python",
   "nbconvert_exporter": "python",
   "pygments_lexer": "ipython3",
   "version": "3.8.2"
  }
 },
 "nbformat": 4,
 "nbformat_minor": 4
}
