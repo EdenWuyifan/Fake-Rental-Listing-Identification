{
 "cells": [
  {
   "cell_type": "code",
   "execution_count": 1,
   "metadata": {},
   "outputs": [],
   "source": [
    "from urllib import request\n",
    "import re\n",
    "import pandas as pd\n",
    "import urllib.parse as urp\n",
    "import requests\n",
    "\n",
    "import csv"
   ]
  },
  {
   "cell_type": "code",
   "execution_count": 2,
   "metadata": {},
   "outputs": [],
   "source": [
    "def __get_location1__(name,city):  \n",
    "        my_ak = 'uXuYBYbI90SdKOGSjIqgDnthz6DrkFN4'   \n",
    "        qurey = urp.quote(name)\n",
    "        try:\n",
    "            url = 'http://api.map.baidu.com/place/v2/search?query='+qurey+'&tag='+'&region='+urp.quote(city)+'&output=json&ak='+my_ak\n",
    "            #print(url)\n",
    "            req = request.urlopen(url)\n",
    "            res = req.read().decode()\n",
    "            lat = pd.to_numeric(re.findall('\"lat\":(.*)',res)[0].split(',')[0])\n",
    "            lng = pd.to_numeric(re.findall('\"lng\":(.*)',res)[0])\n",
    "            return (lng,lat)  #经度和纬度\n",
    "        except:\n",
    "            return 0,0"
   ]
  },
  {
   "cell_type": "code",
   "execution_count": 3,
   "metadata": {},
   "outputs": [
    {
     "name": "stdout",
     "output_type": "stream",
     "text": [
      "(121.543922, 31.278916)\n"
     ]
    }
   ],
   "source": [
    "print(__get_location1__('紫华佳苑','上海'))"
   ]
  },
  {
   "cell_type": "markdown",
   "metadata": {},
   "source": [
    "# 58同城"
   ]
  },
  {
   "cell_type": "code",
   "execution_count": 3,
   "metadata": {},
   "outputs": [
    {
     "data": {
      "text/html": [
       "<div>\n",
       "<style scoped>\n",
       "    .dataframe tbody tr th:only-of-type {\n",
       "        vertical-align: middle;\n",
       "    }\n",
       "\n",
       "    .dataframe tbody tr th {\n",
       "        vertical-align: top;\n",
       "    }\n",
       "\n",
       "    .dataframe thead th {\n",
       "        text-align: right;\n",
       "    }\n",
       "</style>\n",
       "<table border=\"1\" class=\"dataframe\">\n",
       "  <thead>\n",
       "    <tr style=\"text-align: right;\">\n",
       "      <th></th>\n",
       "      <th>价格</th>\n",
       "      <th>室</th>\n",
       "      <th>厅</th>\n",
       "      <th>面积</th>\n",
       "      <th>小区</th>\n",
       "    </tr>\n",
       "  </thead>\n",
       "  <tbody>\n",
       "    <tr>\n",
       "      <th>0</th>\n",
       "      <td>6700</td>\n",
       "      <td>2</td>\n",
       "      <td>0</td>\n",
       "      <td>65.00</td>\n",
       "      <td>山西小区</td>\n",
       "    </tr>\n",
       "    <tr>\n",
       "      <th>1</th>\n",
       "      <td>8500</td>\n",
       "      <td>2</td>\n",
       "      <td>2</td>\n",
       "      <td>91.00</td>\n",
       "      <td>明园森林都市滴翠苑</td>\n",
       "    </tr>\n",
       "    <tr>\n",
       "      <th>2</th>\n",
       "      <td>2600</td>\n",
       "      <td>2</td>\n",
       "      <td>1</td>\n",
       "      <td>56.07</td>\n",
       "      <td>四元路20弄小区</td>\n",
       "    </tr>\n",
       "    <tr>\n",
       "      <th>3</th>\n",
       "      <td>5500</td>\n",
       "      <td>2</td>\n",
       "      <td>2</td>\n",
       "      <td>84.00</td>\n",
       "      <td>明园森林都市滴翠苑</td>\n",
       "    </tr>\n",
       "    <tr>\n",
       "      <th>4</th>\n",
       "      <td>6800</td>\n",
       "      <td>1</td>\n",
       "      <td>2</td>\n",
       "      <td>78.00</td>\n",
       "      <td>紫华佳苑</td>\n",
       "    </tr>\n",
       "  </tbody>\n",
       "</table>\n",
       "</div>"
      ],
      "text/plain": [
       "     价格  室  厅     面积         小区\n",
       "0  6700  2  0  65.00       山西小区\n",
       "1  8500  2  2  91.00  明园森林都市滴翠苑\n",
       "2  2600  2  1  56.07   四元路20弄小区\n",
       "3  5500  2  2  84.00  明园森林都市滴翠苑\n",
       "4  6800  1  2  78.00       紫华佳苑"
      ]
     },
     "execution_count": 3,
     "metadata": {},
     "output_type": "execute_result"
    }
   ],
   "source": [
    "df = pd.read_excel('datasets/58.xls')\n",
    "df=df.drop(columns=[\"区\",\"来源\",\"标题\",\"序号\",\"标签\"])\n",
    "sample = df\n",
    "sample.head()"
   ]
  },
  {
   "cell_type": "code",
   "execution_count": 4,
   "metadata": {},
   "outputs": [
    {
     "data": {
      "text/html": [
       "<div>\n",
       "<style scoped>\n",
       "    .dataframe tbody tr th:only-of-type {\n",
       "        vertical-align: middle;\n",
       "    }\n",
       "\n",
       "    .dataframe tbody tr th {\n",
       "        vertical-align: top;\n",
       "    }\n",
       "\n",
       "    .dataframe thead th {\n",
       "        text-align: right;\n",
       "    }\n",
       "</style>\n",
       "<table border=\"1\" class=\"dataframe\">\n",
       "  <thead>\n",
       "    <tr style=\"text-align: right;\">\n",
       "      <th></th>\n",
       "      <th>经度</th>\n",
       "      <th>纬度</th>\n",
       "      <th>室</th>\n",
       "      <th>厅</th>\n",
       "      <th>面积</th>\n",
       "      <th>价格</th>\n",
       "      <th>小区</th>\n",
       "    </tr>\n",
       "  </thead>\n",
       "  <tbody>\n",
       "    <tr>\n",
       "      <th>0</th>\n",
       "      <td>0</td>\n",
       "      <td>0</td>\n",
       "      <td>2</td>\n",
       "      <td>0</td>\n",
       "      <td>65.00</td>\n",
       "      <td>6700</td>\n",
       "      <td>山西小区</td>\n",
       "    </tr>\n",
       "    <tr>\n",
       "      <th>1</th>\n",
       "      <td>0</td>\n",
       "      <td>0</td>\n",
       "      <td>2</td>\n",
       "      <td>2</td>\n",
       "      <td>91.00</td>\n",
       "      <td>8500</td>\n",
       "      <td>明园森林都市滴翠苑</td>\n",
       "    </tr>\n",
       "    <tr>\n",
       "      <th>2</th>\n",
       "      <td>0</td>\n",
       "      <td>0</td>\n",
       "      <td>2</td>\n",
       "      <td>1</td>\n",
       "      <td>56.07</td>\n",
       "      <td>2600</td>\n",
       "      <td>四元路20弄小区</td>\n",
       "    </tr>\n",
       "    <tr>\n",
       "      <th>3</th>\n",
       "      <td>0</td>\n",
       "      <td>0</td>\n",
       "      <td>2</td>\n",
       "      <td>2</td>\n",
       "      <td>84.00</td>\n",
       "      <td>5500</td>\n",
       "      <td>明园森林都市滴翠苑</td>\n",
       "    </tr>\n",
       "    <tr>\n",
       "      <th>4</th>\n",
       "      <td>0</td>\n",
       "      <td>0</td>\n",
       "      <td>1</td>\n",
       "      <td>2</td>\n",
       "      <td>78.00</td>\n",
       "      <td>6800</td>\n",
       "      <td>紫华佳苑</td>\n",
       "    </tr>\n",
       "  </tbody>\n",
       "</table>\n",
       "</div>"
      ],
      "text/plain": [
       "   经度  纬度  室  厅     面积    价格         小区\n",
       "0   0   0  2  0  65.00  6700       山西小区\n",
       "1   0   0  2  2  91.00  8500  明园森林都市滴翠苑\n",
       "2   0   0  2  1  56.07  2600   四元路20弄小区\n",
       "3   0   0  2  2  84.00  5500  明园森林都市滴翠苑\n",
       "4   0   0  1  2  78.00  6800       紫华佳苑"
      ]
     },
     "execution_count": 4,
     "metadata": {},
     "output_type": "execute_result"
    }
   ],
   "source": [
    "df['经度']=0\n",
    "df['纬度']=0\n",
    "df = df[['经度','纬度','室','厅','面积','价格','小区']]\n",
    "df.head()"
   ]
  },
  {
   "cell_type": "code",
   "execution_count": null,
   "metadata": {
    "scrolled": true
   },
   "outputs": [],
   "source": [
    "df['经度']=0\n",
    "df['纬度']=0\n",
    "\n",
    "location = df['小区']\n",
    "lng = []\n",
    "lat = []\n",
    "\n",
    "for loc in location:\n",
    "    address=__get_location1__(str(loc),'上海')\n",
    "    \n",
    "    while address == (0,0):\n",
    "        for i in range(10):\n",
    "            address = __get_location1__(str(loc),'上海')\n",
    "            if address ==(0,0):\n",
    "                continue\n",
    "            else:\n",
    "                break\n",
    "        break\n",
    "    \n",
    "    lng.append(str(address[0]))\n",
    "    lat.append(str(address[1]))\n",
    "\n",
    "df['经度']=lng\n",
    "df['纬度']=lat\n",
    "\n",
    "df.head()"
   ]
  },
  {
   "cell_type": "code",
   "execution_count": 7,
   "metadata": {},
   "outputs": [],
   "source": [
    "df.drop(columns=[\"小区\"])\n",
    "df.to_excel('58_new.xls')"
   ]
  },
  {
   "cell_type": "markdown",
   "metadata": {},
   "source": [
    "# 贝壳"
   ]
  },
  {
   "cell_type": "code",
   "execution_count": 9,
   "metadata": {},
   "outputs": [
    {
     "data": {
      "text/html": [
       "<div>\n",
       "<style scoped>\n",
       "    .dataframe tbody tr th:only-of-type {\n",
       "        vertical-align: middle;\n",
       "    }\n",
       "\n",
       "    .dataframe tbody tr th {\n",
       "        vertical-align: top;\n",
       "    }\n",
       "\n",
       "    .dataframe thead th {\n",
       "        text-align: right;\n",
       "    }\n",
       "</style>\n",
       "<table border=\"1\" class=\"dataframe\">\n",
       "  <thead>\n",
       "    <tr style=\"text-align: right;\">\n",
       "      <th></th>\n",
       "      <th>经度</th>\n",
       "      <th>纬度</th>\n",
       "      <th>室</th>\n",
       "      <th>厅</th>\n",
       "      <th>面积</th>\n",
       "      <th>价格</th>\n",
       "      <th>小区</th>\n",
       "    </tr>\n",
       "  </thead>\n",
       "  <tbody>\n",
       "    <tr>\n",
       "      <th>0</th>\n",
       "      <td>0</td>\n",
       "      <td>0</td>\n",
       "      <td>1</td>\n",
       "      <td>1</td>\n",
       "      <td>37</td>\n",
       "      <td>4400</td>\n",
       "      <td>长宁西郊王满小区</td>\n",
       "    </tr>\n",
       "    <tr>\n",
       "      <th>1</th>\n",
       "      <td>0</td>\n",
       "      <td>0</td>\n",
       "      <td>2</td>\n",
       "      <td>0</td>\n",
       "      <td>49</td>\n",
       "      <td>4450</td>\n",
       "      <td>徐汇华东理工梅陇十一村</td>\n",
       "    </tr>\n",
       "    <tr>\n",
       "      <th>2</th>\n",
       "      <td>0</td>\n",
       "      <td>0</td>\n",
       "      <td>1</td>\n",
       "      <td>1</td>\n",
       "      <td>32</td>\n",
       "      <td>4700</td>\n",
       "      <td>徐汇田林田林六村</td>\n",
       "    </tr>\n",
       "    <tr>\n",
       "      <th>3</th>\n",
       "      <td>0</td>\n",
       "      <td>0</td>\n",
       "      <td>1</td>\n",
       "      <td>1</td>\n",
       "      <td>39</td>\n",
       "      <td>4200</td>\n",
       "      <td>徐汇康健寿昌坊</td>\n",
       "    </tr>\n",
       "    <tr>\n",
       "      <th>4</th>\n",
       "      <td>0</td>\n",
       "      <td>0</td>\n",
       "      <td>1</td>\n",
       "      <td>1</td>\n",
       "      <td>44</td>\n",
       "      <td>3500</td>\n",
       "      <td>徐汇长桥长桥六村</td>\n",
       "    </tr>\n",
       "  </tbody>\n",
       "</table>\n",
       "</div>"
      ],
      "text/plain": [
       "   经度  纬度  室  厅  面积    价格           小区\n",
       "0   0   0  1  1  37  4400     长宁西郊王满小区\n",
       "1   0   0  2  0  49  4450  徐汇华东理工梅陇十一村\n",
       "2   0   0  1  1  32  4700     徐汇田林田林六村\n",
       "3   0   0  1  1  39  4200      徐汇康健寿昌坊\n",
       "4   0   0  1  1  44  3500     徐汇长桥长桥六村"
      ]
     },
     "execution_count": 9,
     "metadata": {},
     "output_type": "execute_result"
    }
   ],
   "source": [
    "xlsx = pd.ExcelFile(\"datasets/beiker.xlsx\")\n",
    "df = pd.read_excel(xlsx, 0)\n",
    "df1 = pd.read_excel(xlsx, 1)\n",
    "df2 = pd.read_excel(xlsx, 2)\n",
    "df3 = pd.read_excel(xlsx, 3)\n",
    "df = df.append(df1)\n",
    "df = df.append(df2)\n",
    "df = df.append(df3)\n",
    "df = df.drop(columns=\"序号\")\n",
    "df.head()\n",
    "df=df.drop(columns=[\"标题\",\"标签\"])\n",
    "df = df.rename(columns = {'平米': '面积', '地址': '小区'}, inplace = False)\n",
    "df['经度']=0\n",
    "df['纬度']=0\n",
    "df = df[['经度','纬度','室','厅','面积','价格','小区']]\n",
    "df.head()"
   ]
  },
  {
   "cell_type": "code",
   "execution_count": null,
   "metadata": {},
   "outputs": [],
   "source": [
    "location = df['小区']\n",
    "lng = []\n",
    "lat = []\n",
    "\n",
    "for loc in location:\n",
    "    address=__get_location1__(str(loc),'上海')\n",
    "    \n",
    "    while address == (0,0):\n",
    "        for i in range(5):\n",
    "            address = __get_location1__(str(loc),'上海')\n",
    "            if address ==(0,0):\n",
    "                continue\n",
    "            else:\n",
    "                break\n",
    "        break\n",
    "    \n",
    "    lng.append(str(address[0]))\n",
    "    lat.append(str(address[1]))\n",
    "\n",
    "df['经度']=lng\n",
    "df['纬度']=lat\n",
    "\n",
    "df.head()"
   ]
  },
  {
   "cell_type": "code",
   "execution_count": null,
   "metadata": {},
   "outputs": [],
   "source": [
    "df.drop(columns=[\"小区\"])\n",
    "df.to_excel('beike_new.xls')"
   ]
  },
  {
   "cell_type": "markdown",
   "metadata": {},
   "source": [
    "# 安居客"
   ]
  },
  {
   "cell_type": "code",
   "execution_count": null,
   "metadata": {},
   "outputs": [],
   "source": [
    "xlsx = pd.ExcelFile(\"datasets/anjuke.xls\")\n",
    "df = pd.read_excel(xlsx, 0)\n",
    "df = df.drop(columns=\"序号\")\n",
    "df.head()\n",
    "df=df.drop(columns=[\"标题\",\"标签\",\"地址\",\"楼层\"])\n",
    "df = df.rename(columns = {'平米': '面积'}, inplace = False)\n",
    "df['经度']=0\n",
    "df['纬度']=0\n",
    "df = df[['经度','纬度','室','厅','面积','价格','小区']]\n",
    "df.head()"
   ]
  },
  {
   "cell_type": "code",
   "execution_count": 6,
   "metadata": {},
   "outputs": [
    {
     "data": {
      "text/html": [
       "<div>\n",
       "<style scoped>\n",
       "    .dataframe tbody tr th:only-of-type {\n",
       "        vertical-align: middle;\n",
       "    }\n",
       "\n",
       "    .dataframe tbody tr th {\n",
       "        vertical-align: top;\n",
       "    }\n",
       "\n",
       "    .dataframe thead th {\n",
       "        text-align: right;\n",
       "    }\n",
       "</style>\n",
       "<table border=\"1\" class=\"dataframe\">\n",
       "  <thead>\n",
       "    <tr style=\"text-align: right;\">\n",
       "      <th></th>\n",
       "      <th>经度</th>\n",
       "      <th>纬度</th>\n",
       "      <th>室</th>\n",
       "      <th>厅</th>\n",
       "      <th>面积</th>\n",
       "      <th>价格</th>\n",
       "      <th>小区</th>\n",
       "    </tr>\n",
       "  </thead>\n",
       "  <tbody>\n",
       "    <tr>\n",
       "      <th>0</th>\n",
       "      <td>0</td>\n",
       "      <td>0</td>\n",
       "      <td>1</td>\n",
       "      <td>1</td>\n",
       "      <td>58.0</td>\n",
       "      <td>1800</td>\n",
       "      <td>美罗家园罗翔苑</td>\n",
       "    </tr>\n",
       "    <tr>\n",
       "      <th>1</th>\n",
       "      <td>0</td>\n",
       "      <td>0</td>\n",
       "      <td>1</td>\n",
       "      <td>1</td>\n",
       "      <td>58.0</td>\n",
       "      <td>1800</td>\n",
       "      <td>美罗家园宝欣苑九村</td>\n",
       "    </tr>\n",
       "    <tr>\n",
       "      <th>2</th>\n",
       "      <td>0</td>\n",
       "      <td>0</td>\n",
       "      <td>1</td>\n",
       "      <td>1</td>\n",
       "      <td>55.0</td>\n",
       "      <td>1800</td>\n",
       "      <td>美罗家园年吉苑</td>\n",
       "    </tr>\n",
       "    <tr>\n",
       "      <th>3</th>\n",
       "      <td>0</td>\n",
       "      <td>0</td>\n",
       "      <td>1</td>\n",
       "      <td>1</td>\n",
       "      <td>55.0</td>\n",
       "      <td>1800</td>\n",
       "      <td>美罗家园罗秀苑</td>\n",
       "    </tr>\n",
       "    <tr>\n",
       "      <th>4</th>\n",
       "      <td>0</td>\n",
       "      <td>0</td>\n",
       "      <td>1</td>\n",
       "      <td>1</td>\n",
       "      <td>55.0</td>\n",
       "      <td>1800</td>\n",
       "      <td>美罗家园罗翔苑</td>\n",
       "    </tr>\n",
       "  </tbody>\n",
       "</table>\n",
       "</div>"
      ],
      "text/plain": [
       "  经度 纬度  室  厅    面积    价格         小区\n",
       "0  0  0  1  1  58.0  1800    美罗家园罗翔苑\n",
       "1  0  0  1  1  58.0  1800  美罗家园宝欣苑九村\n",
       "2  0  0  1  1  55.0  1800    美罗家园年吉苑\n",
       "3  0  0  1  1  55.0  1800    美罗家园罗秀苑\n",
       "4  0  0  1  1  55.0  1800    美罗家园罗翔苑"
      ]
     },
     "execution_count": 6,
     "metadata": {},
     "output_type": "execute_result"
    }
   ],
   "source": [
    "location = df['小区']\n",
    "lng = []\n",
    "lat = []\n",
    "\n",
    "for loc in location:\n",
    "    address=__get_location1__(str(loc),'上海')\n",
    "    \n",
    "    while address == (0,0):\n",
    "        for i in range(5):\n",
    "            address = __get_location1__(str(loc),'上海')\n",
    "            if address ==(0,0):\n",
    "                continue\n",
    "            else:\n",
    "                break\n",
    "        break\n",
    "    \n",
    "    lng.append(str(address[0]))\n",
    "    lat.append(str(address[1]))\n",
    "\n",
    "df['经度']=lng\n",
    "df['纬度']=lat\n",
    "\n",
    "df.head()"
   ]
  },
  {
   "cell_type": "code",
   "execution_count": null,
   "metadata": {},
   "outputs": [],
   "source": [
    "df.drop(columns=[\"小区\"])\n",
    "df.to_excel('anjuke_new.xls')"
   ]
  },
  {
   "cell_type": "markdown",
   "metadata": {},
   "source": [
    "# Ziroom"
   ]
  },
  {
   "cell_type": "code",
   "execution_count": null,
   "metadata": {
    "jupyter": {
     "source_hidden": true
    }
   },
   "outputs": [],
   "source": [
    "xlsx = pd.ExcelFile(\"datasets/anjuke.xls\")\n",
    "df = pd.read_excel(xlsx, 0)\n",
    "df = df.drop(columns=\"序号\")\n",
    "df.head()\n",
    "df=df.drop(columns=[\"标题\",\"标签\",\"地址\",\"楼层\"])\n",
    "df = df.rename(columns = {'平米': '面积'}, inplace = False)\n",
    "df['经度']=0\n",
    "df['纬度']=0\n",
    "df = df[['经度','纬度','室','厅','面积','价格','小区']]\n",
    "df.head()"
   ]
  },
  {
   "cell_type": "code",
   "execution_count": null,
   "metadata": {
    "jupyter": {
     "source_hidden": true
    }
   },
   "outputs": [],
   "source": [
    "location = df['小区']\n",
    "lng = []\n",
    "lat = []\n",
    "\n",
    "for loc in location:\n",
    "    address=__get_location1__(str(loc),'上海')\n",
    "    \n",
    "    while address == (0,0):\n",
    "        for i in range(5):\n",
    "            address = __get_location1__(str(loc),'上海')\n",
    "            if address ==(0,0):\n",
    "                continue\n",
    "            else:\n",
    "                break\n",
    "        break\n",
    "    \n",
    "    lng.append(str(address[0]))\n",
    "    lat.append(str(address[1]))\n",
    "\n",
    "df['经度']=lng\n",
    "df['纬度']=lat\n",
    "\n",
    "df.head()"
   ]
  },
  {
   "cell_type": "code",
   "execution_count": null,
   "metadata": {
    "jupyter": {
     "source_hidden": true
    }
   },
   "outputs": [],
   "source": [
    "df.drop(columns=[\"小区\"])\n",
    "df.to_excel('ziroom_new.xls')"
   ]
  }
 ],
 "metadata": {
  "kernelspec": {
   "display_name": "Python 3",
   "language": "python",
   "name": "python3"
  },
  "language_info": {
   "codemirror_mode": {
    "name": "ipython",
    "version": 3
   },
   "file_extension": ".py",
   "mimetype": "text/x-python",
   "name": "python",
   "nbconvert_exporter": "python",
   "pygments_lexer": "ipython3",
   "version": "3.8.3"
  }
 },
 "nbformat": 4,
 "nbformat_minor": 4
}
