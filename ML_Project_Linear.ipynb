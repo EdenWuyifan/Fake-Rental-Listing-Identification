{
 "cells": [
  {
   "cell_type": "code",
   "execution_count": 1,
   "metadata": {},
   "outputs": [],
   "source": [
    "import random \n",
    "import pandas as pd\n",
    "import numpy as np\n",
    "import matplotlib.pyplot as plt\n",
    "%matplotlib inline\n",
    "\n",
    "import xlwt\n",
    "import xlrd\n",
    "import openpyxl"
   ]
  },
  {
   "cell_type": "code",
   "execution_count": 2,
   "metadata": {},
   "outputs": [],
   "source": [
    "workbook=openpyxl.load_workbook(\"datasets/beiker.xlsx\")\n",
    "\n",
    "for i in range(4):\n",
    "    worksheet=workbook.worksheets[i]\n",
    "    for k in range(1,worksheet.max_row+1):\n",
    "        val = worksheet.cell(k,2).value\n",
    "        val = val.strip(\"\\n\")\n",
    "        val = val.strip()\n",
    "        worksheet.cell(k,2).value = val\n",
    "workbook.save(\"beiker.xlsx\")\n",
    "\n"
   ]
  },
  {
   "cell_type": "code",
   "execution_count": 3,
   "metadata": {},
   "outputs": [
    {
     "name": "stdout",
     "output_type": "stream",
     "text": [
      "                  标题    室    厅    平米   楼层           地址      价格           标签\n",
      "0     整租·王满小区 1室1厅 南  1.0  1.0  37.0  5.0     长宁西郊王满小区  4400.0      近地铁随时看房\n",
      "1  整租·梅陇十一村 2室0厅 南/北  2.0  0.0  49.0  6.0  徐汇华东理工梅陇十一村  4450.0       精装随时看房\n",
      "2     整租·田林六村 1室1厅 南  1.0  1.0  32.0  6.0     徐汇田林田林六村  4700.0  新上近地铁精装随时看房\n",
      "3      整租·寿昌坊 1室1厅 南  1.0  1.0  39.0  6.0      徐汇康健寿昌坊  4200.0       新上随时看房\n",
      "4     整租·长桥六村 1室1厅 南  1.0  1.0  44.0  6.0     徐汇长桥长桥六村  3500.0         随时看房\n"
     ]
    }
   ],
   "source": [
    "xlsx = pd.ExcelFile(\"datasets/beiker.xlsx\")\n",
    "df = pd.read_excel(xlsx, 0)\n",
    "df1 = pd.read_excel(xlsx, 1)\n",
    "df2 = pd.read_excel(xlsx, 2)\n",
    "df3 = pd.read_excel(xlsx, 3)\n",
    "df = df.append(df1)\n",
    "df = df.append(df2)\n",
    "df = df.append(df3)\n",
    "df = df.drop(columns=\"序号\")\n",
    "\n",
    "df = df[pd.to_numeric(df['室'], errors='coerce').notnull()]\n",
    "df = df[pd.to_numeric(df['厅'], errors='coerce').notnull()]\n",
    "df = df[pd.to_numeric(df['楼层'], errors='coerce').notnull()]\n",
    "\n",
    "\n",
    "df['室'] = df['室'].astype(float)\n",
    "df['厅'] = df['厅'].astype(float)\n",
    "df['平米'] = df['平米'].astype(float)\n",
    "df['楼层'] = df['楼层'].astype(float)\n",
    "df['价格'] = df['价格'].astype(float)\n",
    "print(df[:5])"
   ]
  },
  {
   "cell_type": "code",
   "execution_count": 4,
   "metadata": {},
   "outputs": [
    {
     "name": "stdout",
     "output_type": "stream",
     "text": [
      "(11899, 4)\n",
      "(11899,)\n",
      "[[ 1.  1. 37.  5.]\n",
      " [ 2.  0. 49.  6.]\n",
      " [ 1.  1. 32.  6.]\n",
      " [ 1.  1. 39.  6.]\n",
      " [ 1.  1. 44.  6.]]\n",
      "[4400. 4450. 4700. 4200. 3500.]\n"
     ]
    }
   ],
   "source": [
    "df_y = df[\"价格\"]\n",
    "df_X = df.drop(columns=[\"价格\"])\n",
    "df_X = df_X.drop(columns=[\"标签\"])\n",
    "df_X = df_X.drop(columns=[\"标题\"])\n",
    "df_X = df_X.drop(columns=[\"地址\"])\n",
    "\n",
    "X = df_X.to_numpy()\n",
    "y = df_y.to_numpy()\n",
    "\n",
    "print(X.shape)\n",
    "print(y.shape)\n",
    "print(X[:5])\n",
    "print(y[:5])"
   ]
  },
  {
   "cell_type": "code",
   "execution_count": 5,
   "metadata": {},
   "outputs": [],
   "source": [
    "from sklearn.model_selection import train_test_split\n",
    "\n",
    "X_train, X_test, y_train, y_test = train_test_split(X, y, test_size=0.2, random_state=0)"
   ]
  },
  {
   "cell_type": "code",
   "execution_count": 6,
   "metadata": {},
   "outputs": [],
   "source": [
    "from sklearn.preprocessing import StandardScaler\n",
    "\n",
    "scaler = StandardScaler()\n",
    "X_train = scaler.fit_transform(X_train)\n",
    "X_test = scaler.fit_transform(X_test)\n",
    "\n",
    "\n",
    "X_train = np.hstack((np.ones([len(X_train),1]), X_train))\n",
    "X_test  = np.hstack((np.ones([len(X_test),1]), X_test))"
   ]
  },
  {
   "cell_type": "code",
   "execution_count": 7,
   "metadata": {},
   "outputs": [
    {
     "name": "stdout",
     "output_type": "stream",
     "text": [
      "[[ 0.72619356]\n",
      " [-1.07276029]\n",
      " [-0.14782647]\n",
      " ...\n",
      " [-0.27511094]\n",
      " [-0.14782647]\n",
      " [ 1.2523027 ]]\n"
     ]
    }
   ],
   "source": [
    "y_train = scaler.fit_transform(y_train.reshape(-1,1))\n",
    "y_test  = scaler.fit_transform(y_test.reshape(-1,1))\n",
    "print(y_train)"
   ]
  },
  {
   "cell_type": "code",
   "execution_count": 8,
   "metadata": {},
   "outputs": [],
   "source": [
    "def calc_gradient(Y,X,w):  \n",
    "    \n",
    "    M = Y.shape[0]\n",
    "    loss = np.sum(np.power(Y-np.dot(X,w),2)) / (2*M)\n",
    "    gradient = np.dot(X.T ,np.dot(X,w)-Y)/M\n",
    "        \n",
    "    \n",
    "    return {'gradient': gradient,'loss': loss}"
   ]
  },
  {
   "cell_type": "code",
   "execution_count": 9,
   "metadata": {},
   "outputs": [
    {
     "name": "stdout",
     "output_type": "stream",
     "text": [
      "ALPHA: 0.3\n",
      "Train Loss 99 : 0.19989905220293283\n",
      "Test Loss 99 : 0.19607766243934505\n",
      "ALPHA: 0.05\n",
      "Train Loss 99 : 0.20813767210132228\n",
      "Test Loss 99 : 0.23147793100044256\n",
      "ALPHA: 0.01\n",
      "Train Loss 99 : 0.3634563088893392\n",
      "Test Loss 99 : 0.45106685249323614\n"
     ]
    }
   ],
   "source": [
    "alphas = [0.3,0.05,0.01]\n",
    "losses = [[],[],[]]\n",
    "test_losses = []\n",
    "for ind,alpha in enumerate(alphas):\n",
    "    print(\"ALPHA:\",alpha)\n",
    "    w = np.ones([X_train.shape[1],1])\n",
    "    for epoch in range(100):\n",
    "        output = calc_gradient(y_train,X_train,w)\n",
    "        \n",
    "        #print(\"Loss for epoch\",epoch,\":\",output['loss'])\n",
    "        \n",
    "        losses[ind].append(output['loss'])\n",
    "        for i in range(w.shape[0]):\n",
    "            w[i] -= alpha*output['gradient'][i]\n",
    "    \n",
    "    test_output = calc_gradient(y_test,X_test,w)\n",
    "    print(\"Train Loss\",epoch,\":\",output['loss'])\n",
    "    test_losses.append(test_output['loss'])\n",
    "    print(\"Test Loss\",epoch,\":\",test_output['loss'])"
   ]
  },
  {
   "cell_type": "code",
   "execution_count": 10,
   "metadata": {},
   "outputs": [
    {
     "data": {
      "text/plain": [
       "<matplotlib.legend.Legend at 0x120949400>"
      ]
     },
     "execution_count": 10,
     "metadata": {},
     "output_type": "execute_result"
    },
    {
     "data": {
      "image/png": "[encoded data removed]",
      "text/plain": [
       "<Figure size 432x288 with 1 Axes>"
      ]
     },
     "metadata": {
      "needs_background": "light"
     },
     "output_type": "display_data"
    }
   ],
   "source": [
    "for ind,alpha in enumerate(alphas):\n",
    "    plt.semilogy(losses[ind], label = \"Alpha: \"+str(alpha))\n",
    "plt.legend()"
   ]
  },
  {
   "cell_type": "code",
   "execution_count": 11,
   "metadata": {},
   "outputs": [
    {
     "name": "stdout",
     "output_type": "stream",
     "text": [
      "Train error: 0.19990\n",
      "Test  error: 0.19608\n"
     ]
    }
   ],
   "source": [
    "print(\"Train error: %.5f\" % losses[0][-1])\n",
    "print(\"Test  error: %.5f\" % test_losses[0])"
   ]
  },
  {
   "cell_type": "code",
   "execution_count": 12,
   "metadata": {},
   "outputs": [
    {
     "data": {
      "image/png": "[encoded data removed]",
      "text/plain": [
       "<Figure size 432x288 with 1 Axes>"
      ]
     },
     "metadata": {
      "needs_background": "light"
     },
     "output_type": "display_data"
    }
   ],
   "source": [
    "random.seed(215)\n",
    "batch_losses = []\n",
    "w = np.ones([X_train.shape[1],1])\n",
    "for _ in range(5000):\n",
    "    \n",
    "    # create a random batch of 50 points and follow gradient\n",
    "    X_batch, y_batch = zip(*random.sample(list(zip(X_train, y_train)), k=50))\n",
    "    X_batch, y_batch = np.asarray(X_batch),np.asarray(y_batch)\n",
    "    # apply batch gradient descent\n",
    "    alpha = 0.001\n",
    "    output = calc_gradient(y_batch,X_batch,w)\n",
    "    for i in range(w.shape[0]):\n",
    "        w[i] -= alpha*output['gradient'][i]\n",
    "    \n",
    "    # store the loss \n",
    "    batch_losses.append(output['loss'])\n",
    "    \n",
    "\n",
    "test_output = calc_gradient(y_test,X_test,w)\n",
    "test_loss = test_output['loss']\n",
    "# plot\n",
    "plt.semilogy(batch_losses, label = \"Alpha: \"+str(alpha));\n",
    "plt.legend();"
   ]
  },
  {
   "cell_type": "code",
   "execution_count": 13,
   "metadata": {},
   "outputs": [
    {
     "name": "stdout",
     "output_type": "stream",
     "text": [
      "Train error: 0.08886\n",
      "Test error : 0.23189\n"
     ]
    }
   ],
   "source": [
    "print(\"Train error: %.5f\" % batch_losses[-1])\n",
    "print(\"Test error : %.5f\" % test_loss)"
   ]
  }
 ],
 "metadata": {
  "kernelspec": {
   "display_name": "Python 3",
   "language": "python",
   "name": "python3"
  },
  "language_info": {
   "codemirror_mode": {
    "name": "ipython",
    "version": 3
   },
   "file_extension": ".py",
   "mimetype": "text/x-python",
   "name": "python",
   "nbconvert_exporter": "python",
   "pygments_lexer": "ipython3",
   "version": "3.8.5"
  }
 },
 "nbformat": 4,
 "nbformat_minor": 4
}
